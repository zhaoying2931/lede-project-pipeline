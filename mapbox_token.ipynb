{
 "cells": [
  {
   "cell_type": "code",
   "execution_count": null,
   "id": "5dd80ab0",
   "metadata": {},
   "outputs": [],
   "source": [
    "\"pk.eyJ1IjoieWluZ3poYW8iLCJhIjoiY2tyYXNsMm4wNGx1cDJ1dGZ1d3gwZzFmbCJ9.MjGSE33YSMYoaaWc-7yycA\""
   ]
  }
 ],
 "metadata": {
  "kernelspec": {
   "display_name": "Python 3",
   "language": "python",
   "name": "python3"
  },
  "language_info": {
   "codemirror_mode": {
    "name": "ipython",
    "version": 3
   },
   "file_extension": ".py",
   "mimetype": "text/x-python",
   "name": "python",
   "nbconvert_exporter": "python",
   "pygments_lexer": "ipython3",
   "version": "3.8.10"
  }
 },
 "nbformat": 4,
 "nbformat_minor": 5
}
